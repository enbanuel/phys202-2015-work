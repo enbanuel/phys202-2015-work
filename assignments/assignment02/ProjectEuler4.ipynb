{
 "cells": [
  {
   "cell_type": "markdown",
   "metadata": {
    "nbgrader": {}
   },
   "source": [
    "# Project Euler: Problem 4"
   ]
  },
  {
   "cell_type": "markdown",
   "metadata": {
    "nbgrader": {}
   },
   "source": [
    "https://projecteuler.net/problem=4\n",
    "\n",
    "A palindromic number reads the same both ways. The largest palindrome made from the product of two 2-digit numbers is 9009 = 91 × 99.\n",
    "\n",
    "Find the largest palindrome made from the product of two 3-digit numbers."
   ]
  },
  {
   "cell_type": "code",
   "execution_count": 37,
   "metadata": {
    "collapsed": false,
    "deletable": false,
    "nbgrader": {
     "checksum": "6cff4e8e53b15273846c3aecaea84a3d",
     "solution": true
    },
    "scrolled": true
   },
   "outputs": [
    {
     "name": "stdout",
     "output_type": "stream",
     "text": [
      "906609\n"
     ]
    }
   ],
   "source": [
    "# YOUR CODE HERE\n",
    "# My friend James Haraguchi (a computer science major UCI) helped me with this counter.\n",
    "#Since I skype with him frequently, he may be listed as help on many assignments.\n",
    "var_1 = 99\n",
    "var_2 = 100\n",
    "lisp = []\n",
    "\n",
    "# For this next portion, I used advice from user Pedro Soria on StockExchange, specifically about reversing integers. \n",
    "def rev(numb):\n",
    "    return int(str(numb)[::-1])\n",
    "\n",
    "while var_1 != 1000 and var_2 != 1000:\n",
    "    var_1 += 1\n",
    "    var = var_1*var_2\n",
    "    if var == rev(var):\n",
    "        lisp.append(var)\n",
    "    elif var_1 == 999:\n",
    "        var_2 += 1\n",
    "        var_1 = 100\n",
    "        \n",
    "print(max(lisp))"
   ]
  },
  {
   "cell_type": "code",
   "execution_count": 32,
   "metadata": {
    "collapsed": true,
    "deletable": false,
    "nbgrader": {
     "checksum": "aff23ddd30b5712efa3907cd1608bcf5",
     "grade": true,
     "grade_id": "projecteuler4",
     "points": 10
    }
   },
   "outputs": [],
   "source": [
    "# This cell will be used for grading, leave it at the end of the notebook."
   ]
  }
 ],
 "metadata": {
  "kernelspec": {
   "display_name": "Python 3",
   "language": "python",
   "name": "python3"
  },
  "language_info": {
   "codemirror_mode": {
    "name": "ipython",
    "version": 3
   },
   "file_extension": ".py",
   "mimetype": "text/x-python",
   "name": "python",
   "nbconvert_exporter": "python",
   "pygments_lexer": "ipython3",
   "version": "3.4.0"
  }
 },
 "nbformat": 4,
 "nbformat_minor": 0
}
