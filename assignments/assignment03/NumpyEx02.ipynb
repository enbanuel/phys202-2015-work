{
 "cells": [
  {
   "cell_type": "markdown",
   "metadata": {
    "nbgrader": {}
   },
   "source": [
    "# Numpy Exercise 2"
   ]
  },
  {
   "cell_type": "markdown",
   "metadata": {
    "nbgrader": {}
   },
   "source": [
    "## Imports"
   ]
  },
  {
   "cell_type": "code",
   "execution_count": 1,
   "metadata": {
    "collapsed": true,
    "nbgrader": {}
   },
   "outputs": [],
   "source": [
    "import numpy as np\n",
    "%matplotlib inline\n",
    "import matplotlib.pyplot as plt\n",
    "import seaborn as sns"
   ]
  },
  {
   "cell_type": "markdown",
   "metadata": {
    "nbgrader": {}
   },
   "source": [
    "## Factorial"
   ]
  },
  {
   "cell_type": "markdown",
   "metadata": {
    "nbgrader": {}
   },
   "source": [
    "Write a function that computes the factorial of small numbers using `np.arange` and `np.cumprod`."
   ]
  },
  {
   "cell_type": "code",
   "execution_count": 25,
   "metadata": {
    "collapsed": false,
    "nbgrader": {
     "checksum": "4e72a0f70d32914a77d8d31ae0c2fb5a",
     "solution": true
    }
   },
   "outputs": [
    {
     "name": "stdout",
     "output_type": "stream",
     "text": [
      "720\n"
     ]
    }
   ],
   "source": [
    "def np_fact(n):\n",
    "    \"\"\"Compute n! = n*(n-1)*...*1 using Numpy.\"\"\"\n",
    "    # YOUR CODE HERE\n",
    "    a = np.arange(1, n+1, 1)   #Makes array from 1 to n+1\n",
    "    if n==0:\n",
    "        return 1               #If n is 1 or 0, returns value of 1.\n",
    "    elif n==1:\n",
    "        return 1\n",
    "    else:\n",
    "        return max(a.cumprod())#For all other n, takes max value of cumulative products\n",
    "print np_fact(6)"
   ]
  },
  {
   "cell_type": "code",
   "execution_count": 26,
   "metadata": {
    "collapsed": false,
    "deletable": false,
    "nbgrader": {
     "checksum": "fcb54de452abd89e3b1818a34678d4b4",
     "grade": true,
     "grade_id": "numpyex02a",
     "points": 4
    }
   },
   "outputs": [],
   "source": [
    "assert np_fact(0)==1\n",
    "assert np_fact(1)==1\n",
    "assert np_fact(10)==3628800\n",
    "assert [np_fact(i) for i in range(0,11)]==[1,1,2,6,24,120,720,5040,40320,362880,3628800]"
   ]
  },
  {
   "cell_type": "markdown",
   "metadata": {
    "nbgrader": {}
   },
   "source": [
    "Write a function that computes the factorial of small numbers using a Python loop."
   ]
  },
  {
   "cell_type": "code",
   "execution_count": 43,
   "metadata": {
    "collapsed": false,
    "nbgrader": {
     "checksum": "9341aa5eb68a3ce57e5cce1cd9192021",
     "solution": true
    }
   },
   "outputs": [
    {
     "name": "stdout",
     "output_type": "stream",
     "text": [
      "3628800\n"
     ]
    }
   ],
   "source": [
    "def loop_fact(n):\n",
    "    \"\"\"Compute n! using a Python for loop.\"\"\"\n",
    "    # YOUR CODE HERE\n",
    "    f = n\n",
    "    if n == 0:\n",
    "        return 1     #Same as above.\n",
    "    elif n == 1:\n",
    "        return 1\n",
    "    while n > 1:\n",
    "        f *= (n-1)   #For n > 1, takes continuous product of n to right before n = 0, otherwise it would all equal 0.\n",
    "        n -= 1\n",
    "    return f\n",
    "    \n",
    "print loop_fact(10)"
   ]
  },
  {
   "cell_type": "code",
   "execution_count": 44,
   "metadata": {
    "collapsed": true,
    "deletable": false,
    "nbgrader": {
     "checksum": "a9946f0fdca1abf66ddfb0454ab10113",
     "grade": true,
     "grade_id": "numpyex02b",
     "points": 4
    }
   },
   "outputs": [],
   "source": [
    "assert loop_fact(0)==1\n",
    "assert loop_fact(1)==1\n",
    "assert loop_fact(10)==3628800\n",
    "assert [loop_fact(i) for i in range(0,11)]==[1,1,2,6,24,120,720,5040,40320,362880,3628800]"
   ]
  },
  {
   "cell_type": "markdown",
   "metadata": {
    "nbgrader": {}
   },
   "source": [
    "Use the `%timeit` magic to time both versions of this function for an argument of `50`. The syntax for `%timeit` is:\n",
    "\n",
    "```python\n",
    "%timeit -n1 -r1 function_to_time()\n",
    "```"
   ]
  },
  {
   "cell_type": "code",
   "execution_count": 48,
   "metadata": {
    "collapsed": false,
    "deletable": false,
    "nbgrader": {
     "checksum": "6cff4e8e53b15273846c3aecaea84a3d",
     "solution": true
    },
    "scrolled": true
   },
   "outputs": [
    {
     "name": "stdout",
     "output_type": "stream",
     "text": [
      "1 loops, best of 1: 30 µs per loop\n",
      "1 loops, best of 1: 149 µs per loop\n"
     ]
    }
   ],
   "source": [
    "# YOUR CODE HERE\n",
    "%timeit -n1 -r1 loop_fact(50)\n",
    "%timeit -n1 -r1 np_fact(50)"
   ]
  },
  {
   "cell_type": "markdown",
   "metadata": {
    "nbgrader": {}
   },
   "source": [
    "In the cell below, summarize your timing tests. Which version is faster? Why do you think that version is faster?"
   ]
  },
  {
   "cell_type": "markdown",
   "metadata": {
    "deletable": false,
    "nbgrader": {
     "checksum": "84e52188175a63ea7106817b9b063eef",
     "grade": true,
     "grade_id": "numpyex02c",
     "points": 2,
     "solution": true
    }
   },
   "source": [
    "YOUR ANSWER HERE: My loop_fact is faster, and I believe this is because the while function works inherently faster for small code than numpy does. np_fact is making a range of all values and then multiplyin them together, whil loop_fact is subtracts then multiplies without having to make an array."
   ]
  }
 ],
 "metadata": {
  "kernelspec": {
   "display_name": "Python 2",
   "language": "python",
   "name": "python2"
  },
  "language_info": {
   "codemirror_mode": {
    "name": "ipython",
    "version": 2
   },
   "file_extension": ".py",
   "mimetype": "text/x-python",
   "name": "python",
   "nbconvert_exporter": "python",
   "pygments_lexer": "ipython2",
   "version": "2.7.6"
  }
 },
 "nbformat": 4,
 "nbformat_minor": 0
}
